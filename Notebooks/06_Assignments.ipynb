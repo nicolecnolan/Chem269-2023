{
 "cells": [
  {
   "attachments": {},
   "cell_type": "markdown",
   "metadata": {},
   "source": [
    "## Assignment #1 - find genes with differential gene expression patterns. \n",
    "\n",
    "We want to find the genes that have statistically significant patterns of their gene expression levels. \n",
    "\n",
    "Define a measure that captures the idea of spatially varying gene expression. Think about it, there are many ways to do that. \n",
    "\n",
    "Hint: If expression pattern is uniform, what do you expect from two cells that are neighbors compared to cells that are not? \n",
    "\n",
    "Repeat your analysis taking into account cell types - test all five different cell type levels\n",
    "\n",
    "\n"
   ]
  },
  {
   "cell_type": "code",
   "execution_count": 3,
   "metadata": {},
   "outputs": [],
   "source": [
    "import numpy as np\n",
    "import pandas as pd\n",
    "from scipy import stats\n",
    "import matplotlib.pyplot as plt\n",
    "import statsmodels.api as sm\n",
    "import seaborn as sns\n",
    "\n",
    "import anndata\n",
    "adata = anndata.read_h5ad('../Data/Brain_AllenData.h5ad')\n"
   ]
  },
  {
   "cell_type": "code",
   "execution_count": 4,
   "metadata": {},
   "outputs": [
    {
     "ename": "KeyError",
     "evalue": "'GeneName'",
     "output_type": "error",
     "traceback": [
      "\u001b[1;31m---------------------------------------------------------------------------\u001b[0m",
      "\u001b[1;31mKeyError\u001b[0m                                  Traceback (most recent call last)",
      "File \u001b[1;32mc:\\ProgramData\\miniconda3\\Lib\\site-packages\\pandas\\core\\indexes\\base.py:3790\u001b[0m, in \u001b[0;36mIndex.get_loc\u001b[1;34m(self, key)\u001b[0m\n\u001b[0;32m   3789\u001b[0m \u001b[39mtry\u001b[39;00m:\n\u001b[1;32m-> 3790\u001b[0m     \u001b[39mreturn\u001b[39;00m \u001b[39mself\u001b[39m\u001b[39m.\u001b[39m_engine\u001b[39m.\u001b[39mget_loc(casted_key)\n\u001b[0;32m   3791\u001b[0m \u001b[39mexcept\u001b[39;00m \u001b[39mKeyError\u001b[39;00m \u001b[39mas\u001b[39;00m err:\n",
      "File \u001b[1;32mindex.pyx:152\u001b[0m, in \u001b[0;36mpandas._libs.index.IndexEngine.get_loc\u001b[1;34m()\u001b[0m\n",
      "File \u001b[1;32mindex.pyx:181\u001b[0m, in \u001b[0;36mpandas._libs.index.IndexEngine.get_loc\u001b[1;34m()\u001b[0m\n",
      "File \u001b[1;32mpandas\\_libs\\hashtable_class_helper.pxi:7080\u001b[0m, in \u001b[0;36mpandas._libs.hashtable.PyObjectHashTable.get_item\u001b[1;34m()\u001b[0m\n",
      "File \u001b[1;32mpandas\\_libs\\hashtable_class_helper.pxi:7088\u001b[0m, in \u001b[0;36mpandas._libs.hashtable.PyObjectHashTable.get_item\u001b[1;34m()\u001b[0m\n",
      "\u001b[1;31mKeyError\u001b[0m: 'GeneName'",
      "\nThe above exception was the direct cause of the following exception:\n",
      "\u001b[1;31mKeyError\u001b[0m                                  Traceback (most recent call last)",
      "\u001b[1;32mc:\\Users\\Nicole\\Documents\\GitHub\\Chem269-2023-myFork\\Notebooks\\06_Assignments.ipynb Cell 3\u001b[0m line \u001b[0;36m1\n\u001b[0;32m      <a href='vscode-notebook-cell:/c%3A/Users/Nicole/Documents/GitHub/Chem269-2023-myFork/Notebooks/06_Assignments.ipynb#W6sZmlsZQ%3D%3D?line=8'>9</a>\u001b[0m \u001b[39m# Use the function to calculate the spatial variance for a specific gene\u001b[39;00m\n\u001b[0;32m     <a href='vscode-notebook-cell:/c%3A/Users/Nicole/Documents/GitHub/Chem269-2023-myFork/Notebooks/06_Assignments.ipynb#W6sZmlsZQ%3D%3D?line=9'>10</a>\u001b[0m gene \u001b[39m=\u001b[39m \u001b[39m'\u001b[39m\u001b[39mGeneName\u001b[39m\u001b[39m'\u001b[39m  \u001b[39m# replace with your gene of interest\u001b[39;00m\n\u001b[1;32m---> <a href='vscode-notebook-cell:/c%3A/Users/Nicole/Documents/GitHub/Chem269-2023-myFork/Notebooks/06_Assignments.ipynb#W6sZmlsZQ%3D%3D?line=10'>11</a>\u001b[0m variance \u001b[39m=\u001b[39m calculate_spatial_variance(adata, gene)\n\u001b[0;32m     <a href='vscode-notebook-cell:/c%3A/Users/Nicole/Documents/GitHub/Chem269-2023-myFork/Notebooks/06_Assignments.ipynb#W6sZmlsZQ%3D%3D?line=11'>12</a>\u001b[0m \u001b[39mprint\u001b[39m(\u001b[39mf\u001b[39m\u001b[39m\"\u001b[39m\u001b[39mSpatial variance for \u001b[39m\u001b[39m{\u001b[39;00mgene\u001b[39m}\u001b[39;00m\u001b[39m: \u001b[39m\u001b[39m{\u001b[39;00mvariance\u001b[39m}\u001b[39;00m\u001b[39m\"\u001b[39m)\n",
      "\u001b[1;32mc:\\Users\\Nicole\\Documents\\GitHub\\Chem269-2023-myFork\\Notebooks\\06_Assignments.ipynb Cell 3\u001b[0m line \u001b[0;36m4\n\u001b[0;32m      <a href='vscode-notebook-cell:/c%3A/Users/Nicole/Documents/GitHub/Chem269-2023-myFork/Notebooks/06_Assignments.ipynb#W6sZmlsZQ%3D%3D?line=1'>2</a>\u001b[0m \u001b[39mdef\u001b[39;00m \u001b[39mcalculate_spatial_variance\u001b[39m(adata, gene):\n\u001b[0;32m      <a href='vscode-notebook-cell:/c%3A/Users/Nicole/Documents/GitHub/Chem269-2023-myFork/Notebooks/06_Assignments.ipynb#W6sZmlsZQ%3D%3D?line=2'>3</a>\u001b[0m     \u001b[39m# Extract the expression levels of the gene across all cells\u001b[39;00m\n\u001b[1;32m----> <a href='vscode-notebook-cell:/c%3A/Users/Nicole/Documents/GitHub/Chem269-2023-myFork/Notebooks/06_Assignments.ipynb#W6sZmlsZQ%3D%3D?line=3'>4</a>\u001b[0m     expression_levels \u001b[39m=\u001b[39m adata[:, gene]\u001b[39m.\u001b[39mX\n\u001b[0;32m      <a href='vscode-notebook-cell:/c%3A/Users/Nicole/Documents/GitHub/Chem269-2023-myFork/Notebooks/06_Assignments.ipynb#W6sZmlsZQ%3D%3D?line=5'>6</a>\u001b[0m     \u001b[39m# Calculate and return the variance\u001b[39;00m\n\u001b[0;32m      <a href='vscode-notebook-cell:/c%3A/Users/Nicole/Documents/GitHub/Chem269-2023-myFork/Notebooks/06_Assignments.ipynb#W6sZmlsZQ%3D%3D?line=6'>7</a>\u001b[0m     \u001b[39mreturn\u001b[39;00m np\u001b[39m.\u001b[39mvar(expression_levels)\n",
      "File \u001b[1;32mc:\\ProgramData\\miniconda3\\Lib\\site-packages\\anndata\\_core\\anndata.py:1170\u001b[0m, in \u001b[0;36mAnnData.__getitem__\u001b[1;34m(self, index)\u001b[0m\n\u001b[0;32m   1168\u001b[0m \u001b[39mdef\u001b[39;00m \u001b[39m__getitem__\u001b[39m(\u001b[39mself\u001b[39m, index: Index) \u001b[39m-\u001b[39m\u001b[39m>\u001b[39m AnnData:\n\u001b[0;32m   1169\u001b[0m \u001b[39m    \u001b[39m\u001b[39m\"\"\"Returns a sliced view of the object.\"\"\"\u001b[39;00m\n\u001b[1;32m-> 1170\u001b[0m     oidx, vidx \u001b[39m=\u001b[39m \u001b[39mself\u001b[39m\u001b[39m.\u001b[39m_normalize_indices(index)\n\u001b[0;32m   1171\u001b[0m     \u001b[39mreturn\u001b[39;00m AnnData(\u001b[39mself\u001b[39m, oidx\u001b[39m=\u001b[39moidx, vidx\u001b[39m=\u001b[39mvidx, asview\u001b[39m=\u001b[39m\u001b[39mTrue\u001b[39;00m)\n",
      "File \u001b[1;32mc:\\ProgramData\\miniconda3\\Lib\\site-packages\\anndata\\_core\\anndata.py:1151\u001b[0m, in \u001b[0;36mAnnData._normalize_indices\u001b[1;34m(self, index)\u001b[0m\n\u001b[0;32m   1150\u001b[0m \u001b[39mdef\u001b[39;00m \u001b[39m_normalize_indices\u001b[39m(\u001b[39mself\u001b[39m, index: Index \u001b[39m|\u001b[39m \u001b[39mNone\u001b[39;00m) \u001b[39m-\u001b[39m\u001b[39m>\u001b[39m \u001b[39mtuple\u001b[39m[\u001b[39mslice\u001b[39m, \u001b[39mslice\u001b[39m]:\n\u001b[1;32m-> 1151\u001b[0m     \u001b[39mreturn\u001b[39;00m _normalize_indices(index, \u001b[39mself\u001b[39m\u001b[39m.\u001b[39mobs_names, \u001b[39mself\u001b[39m\u001b[39m.\u001b[39mvar_names)\n",
      "File \u001b[1;32mc:\\ProgramData\\miniconda3\\Lib\\site-packages\\anndata\\_core\\index.py:36\u001b[0m, in \u001b[0;36m_normalize_indices\u001b[1;34m(index, names0, names1)\u001b[0m\n\u001b[0;32m     34\u001b[0m ax0, ax1 \u001b[39m=\u001b[39m unpack_index(index)\n\u001b[0;32m     35\u001b[0m ax0 \u001b[39m=\u001b[39m _normalize_index(ax0, names0)\n\u001b[1;32m---> 36\u001b[0m ax1 \u001b[39m=\u001b[39m _normalize_index(ax1, names1)\n\u001b[0;32m     37\u001b[0m \u001b[39mreturn\u001b[39;00m ax0, ax1\n",
      "File \u001b[1;32mc:\\ProgramData\\miniconda3\\Lib\\site-packages\\anndata\\_core\\index.py:73\u001b[0m, in \u001b[0;36m_normalize_index\u001b[1;34m(indexer, index)\u001b[0m\n\u001b[0;32m     71\u001b[0m     \u001b[39mreturn\u001b[39;00m indexer\n\u001b[0;32m     72\u001b[0m \u001b[39melif\u001b[39;00m \u001b[39misinstance\u001b[39m(indexer, \u001b[39mstr\u001b[39m):\n\u001b[1;32m---> 73\u001b[0m     \u001b[39mreturn\u001b[39;00m index\u001b[39m.\u001b[39mget_loc(indexer)  \u001b[39m# int\u001b[39;00m\n\u001b[0;32m     74\u001b[0m \u001b[39melif\u001b[39;00m \u001b[39misinstance\u001b[39m(indexer, (Sequence, np\u001b[39m.\u001b[39mndarray, pd\u001b[39m.\u001b[39mIndex, spmatrix, np\u001b[39m.\u001b[39mmatrix)):\n\u001b[0;32m     75\u001b[0m     \u001b[39mif\u001b[39;00m \u001b[39mhasattr\u001b[39m(indexer, \u001b[39m\"\u001b[39m\u001b[39mshape\u001b[39m\u001b[39m\"\u001b[39m) \u001b[39mand\u001b[39;00m (\n\u001b[0;32m     76\u001b[0m         (indexer\u001b[39m.\u001b[39mshape \u001b[39m==\u001b[39m (index\u001b[39m.\u001b[39mshape[\u001b[39m0\u001b[39m], \u001b[39m1\u001b[39m))\n\u001b[0;32m     77\u001b[0m         \u001b[39mor\u001b[39;00m (indexer\u001b[39m.\u001b[39mshape \u001b[39m==\u001b[39m (\u001b[39m1\u001b[39m, index\u001b[39m.\u001b[39mshape[\u001b[39m0\u001b[39m]))\n\u001b[0;32m     78\u001b[0m     ):\n",
      "File \u001b[1;32mc:\\ProgramData\\miniconda3\\Lib\\site-packages\\pandas\\core\\indexes\\base.py:3797\u001b[0m, in \u001b[0;36mIndex.get_loc\u001b[1;34m(self, key)\u001b[0m\n\u001b[0;32m   3792\u001b[0m     \u001b[39mif\u001b[39;00m \u001b[39misinstance\u001b[39m(casted_key, \u001b[39mslice\u001b[39m) \u001b[39mor\u001b[39;00m (\n\u001b[0;32m   3793\u001b[0m         \u001b[39misinstance\u001b[39m(casted_key, abc\u001b[39m.\u001b[39mIterable)\n\u001b[0;32m   3794\u001b[0m         \u001b[39mand\u001b[39;00m \u001b[39many\u001b[39m(\u001b[39misinstance\u001b[39m(x, \u001b[39mslice\u001b[39m) \u001b[39mfor\u001b[39;00m x \u001b[39min\u001b[39;00m casted_key)\n\u001b[0;32m   3795\u001b[0m     ):\n\u001b[0;32m   3796\u001b[0m         \u001b[39mraise\u001b[39;00m InvalidIndexError(key)\n\u001b[1;32m-> 3797\u001b[0m     \u001b[39mraise\u001b[39;00m \u001b[39mKeyError\u001b[39;00m(key) \u001b[39mfrom\u001b[39;00m \u001b[39merr\u001b[39;00m\n\u001b[0;32m   3798\u001b[0m \u001b[39mexcept\u001b[39;00m \u001b[39mTypeError\u001b[39;00m:\n\u001b[0;32m   3799\u001b[0m     \u001b[39m# If we have a listlike key, _check_indexing_error will raise\u001b[39;00m\n\u001b[0;32m   3800\u001b[0m     \u001b[39m#  InvalidIndexError. Otherwise we fall through and re-raise\u001b[39;00m\n\u001b[0;32m   3801\u001b[0m     \u001b[39m#  the TypeError.\u001b[39;00m\n\u001b[0;32m   3802\u001b[0m     \u001b[39mself\u001b[39m\u001b[39m.\u001b[39m_check_indexing_error(key)\n",
      "\u001b[1;31mKeyError\u001b[0m: 'GeneName'"
     ]
    }
   ],
   "source": [
    "# Assuming 'adata' is your AnnData object and 'gene' is the gene of interest\n",
    "def calculate_spatial_variance(adata, gene):\n",
    "    # Extract the expression levels of the gene across all cells\n",
    "    expression_levels = adata[:, gene].X\n",
    "    \n",
    "    # Calculate and return the variance\n",
    "    return np.var(expression_levels)\n",
    "\n",
    "# Use the function to calculate the spatial variance for a specific gene\n",
    "gene = 'GeneName'  # replace with your gene of interest\n",
    "variance = calculate_spatial_variance(adata, gene)\n",
    "print(f\"Spatial variance for {gene}: {variance}\")"
   ]
  },
  {
   "attachments": {},
   "cell_type": "markdown",
   "metadata": {},
   "source": [
    "## Assignment #2 - find clusters in the gene expression data. \n",
    "\n",
    "Cluster the data (after appropriate cleanup / transformation / dimensionlity reduction)\n",
    "\n",
    "Analyze the agreement between your clusters and the type levels provided by the Allen institute\n",
    "\n",
    "Idenitfy genes whos expression matches your grouping. \n",
    "\n",
    "Score for each cluster whether it is in proximity to other cells of the same type or not.  "
   ]
  },
  {
   "attachments": {},
   "cell_type": "markdown",
   "metadata": {},
   "source": [
    "## Assignemnt #3 - Find cell type association\n",
    "\n",
    "Create distance matrix of cell type association and cluster it to find which cell types are in spatial proximity to each other"
   ]
  },
  {
   "cell_type": "markdown",
   "metadata": {},
   "source": []
  }
 ],
 "metadata": {
  "kernelspec": {
   "display_name": "chem269",
   "language": "python",
   "name": "python3"
  },
  "language_info": {
   "codemirror_mode": {
    "name": "ipython",
    "version": 3
   },
   "file_extension": ".py",
   "mimetype": "text/x-python",
   "name": "python",
   "nbconvert_exporter": "python",
   "pygments_lexer": "ipython3",
   "version": "3.11.5"
  },
  "orig_nbformat": 4
 },
 "nbformat": 4,
 "nbformat_minor": 2
}
